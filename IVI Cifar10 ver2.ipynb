{
 "cells": [
  {
   "cell_type": "markdown",
   "metadata": {
    "slideshow": {
     "slide_type": "slide"
    }
   },
   "source": [
    "<div style=\"text-align: left;\">\n",
    "<font size=\"4\">1.モジュールのインポート</font>\n",
    "</div>\n",
    "<pre>\n",
    "主に使用しているのは\n",
    "Keras, Tensorflow:ディープラーニングフレームワーク\n",
    "(KerasのバックエンドでTensorflowを動かします)\n",
    "Numpy:画像データを行列データにする際に使用\n",
    "Matplotlib:学習中のグラフを描画するのに使用\n",
    "Pandas:結果データをまとめるのに使用\n",
    "</pre>"
   ]
  },
  {
   "cell_type": "code",
   "execution_count": 134,
   "metadata": {
    "slideshow": {
     "slide_type": "-"
    }
   },
   "outputs": [],
   "source": [
    "from keras import backend as K\n",
    "if 'tensorflow' == K.backend():\n",
    "    import tensorflow as tf\n",
    "from keras.backend.tensorflow_backend import set_session\n",
    "config = tf.ConfigProto()\n",
    "config.gpu_options.allow_growth = True\n",
    "config.gpu_options.visible_device_list = \"0\"\n",
    "set_session(tf.Session(config=config))\n",
    "import keras.backend.tensorflow_backend \n",
    "from keras.backend.tensorflow_backend import set_session\n",
    "\n",
    "import keras, os, glob\n",
    "import numpy as np\n",
    "np.set_printoptions(threshold=np.inf)\n",
    "import matplotlib.pyplot as plt\n",
    "import pandas as pd\n",
    "from keras.utils import np_utils\n",
    "from keras.models import Sequential\n",
    "from keras.layers.convolutional import Conv2D, MaxPooling2D\n",
    "from keras.layers.core import Dense, Dropout, Activation, Flatten\n",
    "from keras.utils.np_utils import to_categorical\n",
    "from keras.optimizers import Adam\n",
    "from keras.preprocessing.image import ImageDataGenerator\n",
    "from PIL import Image\n",
    "from sklearn.metrics import classification_report\n",
    "from sklearn.metrics import confusion_matrix\n",
    "from sklearn.metrics import f1_score\n",
    "from IPython.display import display\n",
    "import time\n"
   ]
  },
  {
   "cell_type": "markdown",
   "metadata": {
    "slideshow": {
     "slide_type": "slide"
    }
   },
   "source": [
    "<div style=\"text-align: left;\">\n",
    "<font size=\"4\">2.ファイルのインポート</font>\n",
    "</div>\n",
    "<pre>\n",
    "本プログラムを配置したディレクトリ以下にフォルダを作成して下さい。\n",
    "・学習ファイルの配置方法\n",
    "./IVI_cifar10/train/'クラス1'/'画像ファイル1'.jpg、・・・・'画像ファイル10'.jpg・・・・\n",
    "                    'クラス2'/'画像ファイル1'.jpg、・・・・・・・・・・・・・・・・・・\n",
    "                    'クラス3'/・・・・・\n",
    "　　        　          ・\n",
    "                        ・\n",
    "・評価ファイルの配置方法\n",
    "./IVI_cifar10/test/'クラス1'/'画像ファイル1'.jpg、・・・・'画像ファイル10'.jpg・・・・\n",
    "                   'クラス2'/'画像ファイル1'.jpg、・・・・・・・・・・・・・・・・・・\n",
    "                   'クラス3'/・・・・・\n",
    "          　          ・\n",
    "                      ・\n",
    "本プログラムは学習ファイルが格納されている、それぞれのディレクトリ数(クラス1, クラス2、、、)\n",
    "の数をカウントして分類分けしますので、分類数>=評価分類数として下さい。\n",
    "ディレクトリの名前は任意ですが、学習と評価ファイルが格納されるディレクトリの名前は一致して下さい。\n",
    "○クラス1 = クラス1、×クラス1 = class1\n",
    "</pre>"
   ]
  },
  {
   "cell_type": "code",
   "execution_count": 135,
   "metadata": {
    "slideshow": {
     "slide_type": "-"
    }
   },
   "outputs": [
    {
     "name": "stdout",
     "output_type": "stream",
     "text": [
      "学習に使用する枚数は 180 枚\n",
      "評価に使用する枚数は 1 枚\n"
     ]
    }
   ],
   "source": [
    "train_dir = 'C:\\\\Users\\\\\\ADSTEC\\\\DLTEST\\\\cifar10\\\\IVI_cifar10_2\\\\train' # 学習データ置き場\n",
    "train_folder = os.listdir(train_dir)\n",
    "test_dir = 'C:\\\\Users\\\\ADSTEC\\\\DLTEST\\\\cifar10\\\\IVI_cifar10_2\\\\test' # 評価データ置き場\n",
    "test_folder = os.listdir(test_dir)\n",
    "\n",
    "image_size_x = 32 # 元画像サイズX\n",
    "image_size_y = 32 # 元画像サイズY\n",
    "\n",
    "X_train = [] # 学習に使う画像データの格納先\n",
    "Y_train = [] # 学習に使うラベルデータの格納先\n",
    "X_test = [] # 評価に使う画像データの格納先\n",
    "Y_test = [] # 評価に使うラベルデータの格納先\n",
    "\n",
    "# 学習クラス数を取得(学習ディレクリ名から)\n",
    "class_folder = tuple(train_folder)\n",
    "class_dict = {}\n",
    "for i in range(len(train_folder)):\n",
    "    class_dict[class_folder[i]] = i\n",
    "\n",
    "# 学習ファイル用データ抜き出し\n",
    "train_pics = []\n",
    "for x, name in enumerate(train_folder):\n",
    "    train_files = glob.glob((train_dir + '\\\\' + name) + \"/*\")\n",
    "    for i,file in enumerate(train_files, start=1):\n",
    "        image = Image.open(file)\n",
    "        image = image.convert(\"RGB\")\n",
    "        image = image.resize((image_size_x, image_size_y))\n",
    "        data = np.asarray(image)\n",
    "        X_train.append(data)\n",
    "        index = class_dict[name]   \n",
    "        Y_train.append(index)\n",
    "    train_pics.append(i)\n",
    "if x >= 1:\n",
    "    train_pics = sum(train_pics)\n",
    "else:\n",
    "    train_pics = train_pics\n",
    "\n",
    "# 評価ファイル用データ抜き出し\n",
    "test_pics = []\n",
    "for x,name in enumerate(test_folder):\n",
    "    test_files = glob.glob((test_dir + '\\\\' + name) + \"/*\")\n",
    "    for i,file in enumerate(test_files, start=1):\n",
    "        image = Image.open(file)\n",
    "        image = image.convert(\"RGB\")\n",
    "        image = image.resize((image_size_x, image_size_y))\n",
    "        data = np.asarray(image)\n",
    "        X_test.append(data)\n",
    "        index = class_dict[name] \n",
    "        Y_test.append(index) \n",
    "        test_pics.append(i)\n",
    "if x >= 1:\n",
    "    test_pics = sum(test_pics)\n",
    "else:\n",
    "    test_pics = test_pics[0]\n",
    "print('学習に使用する枚数は',train_pics,'枚')\n",
    "print('評価に使用する枚数は',test_pics,'枚')"
   ]
  },
  {
   "cell_type": "markdown",
   "metadata": {
    "slideshow": {
     "slide_type": "slide"
    }
   },
   "source": [
    "<div style=\"text-align: left;\">\n",
    "<font size=\"4\">3.画像データ変換</font>\n",
    "</div>\n",
    "<pre>\n",
    "・取り込んだ画像データをリストデータから、アレイデータへ変換する。\n",
    "・8bit諧調の画像として、0-1でのデータ取り扱いをする為に、255で割る。\n",
    "  (代表として、255で割る前後の数値を下に示します、学習画像1枚目中の1列目,1行目のピクセルを表示)\n",
    "・各画像にタグ付けされたクラスデータをベクトルデータに変換する(ワンホット表現といいます)\n",
    "　(全クラス数の行列を作ってあげて、どこにクラス分けされるかを作ります)\n",
    " 　例：全てのクラス数が10, 対象画像がクラス5に分類される場合\n",
    "  処理前：5 要素数は1となり、数字での表現です。\n",
    "  処理後:[0 0 0 0 1 0 0 0 0 0] 全要素数は10で5番目の要素(クラス5)に分類されているという表現です。\n",
    "  今回は2クラスなので処理前：0が処理後：[1 0]となります。\n",
    "  </pre>"
   ]
  },
  {
   "cell_type": "code",
   "execution_count": 136,
   "metadata": {
    "slideshow": {
     "slide_type": "-"
    }
   },
   "outputs": [
    {
     "name": "stdout",
     "output_type": "stream",
     "text": [
      "<class 'list'>\n",
      "<class 'numpy.ndarray'>\n"
     ]
    }
   ],
   "source": [
    "print(type(X_train))\n",
    "# 学習データ、評価データをアレイデータに変換\n",
    "X_train = np.array(X_train) # 学習画像データ\n",
    "Y_train = np.array(Y_train) # 学習画像用ラベル\n",
    "X_test = np.array(X_test) # 評価画像データ\n",
    "Y_test = np.array(Y_test) # 評価画像用ラベル\n",
    "print(type(X_train))"
   ]
  },
  {
   "cell_type": "code",
   "execution_count": 137,
   "metadata": {
    "slideshow": {
     "slide_type": "-"
    }
   },
   "outputs": [
    {
     "name": "stdout",
     "output_type": "stream",
     "text": [
      "[26 25 35]\n",
      "[0.10196079 0.09803922 0.13725491]\n"
     ]
    }
   ],
   "source": [
    "#  学習画像データ、評価画像データの各ピクセルを255で割り0-1のデータで表示する\n",
    "print(X_train[0][0][0]) #1枚目画像の、1列目、1行目のピクセルを指定 \n",
    "X_train = X_train.astype('float32') / 255\n",
    "X_test = X_test.astype('float32') / 255\n",
    "print(X_train[0][0][0])"
   ]
  },
  {
   "cell_type": "code",
   "execution_count": 138,
   "metadata": {
    "slideshow": {
     "slide_type": "-"
    }
   },
   "outputs": [
    {
     "name": "stdout",
     "output_type": "stream",
     "text": [
      "0\n",
      "[1. 0.]\n"
     ]
    }
   ],
   "source": [
    "# 学習用ラベルデータ、評価用ラベルデータをリストからベクトル変換\n",
    "print(Y_train[0])\n",
    "Y_train = np_utils.to_categorical(Y_train, len(train_folder))\n",
    "Y_test = np_utils.to_categorical(Y_test, len(train_folder))\n",
    "print(Y_train[1])"
   ]
  },
  {
   "cell_type": "markdown",
   "metadata": {
    "slideshow": {
     "slide_type": "slide"
    }
   },
   "source": [
    "<div style=\"text-align: left;\">\n",
    "<font size=\"4\">4.学習モデルの設計</font>\n",
    "</div>\n",
    "<pre>\n",
    "ディープラーニングではモデルの設計とデータの取り扱いは別に行います。\n",
    "下記はデータを流し込むモデルの設計です。\n",
    "今回はKerasチームのcifar10のサンプルに準じます。\n",
    "出展：https://github.com/keras-team/keras/blob/master/examples/cifar10_cnn.py\n",
    "\n",
    "以下概略\n",
    "<レイヤーの設計>\n",
    "・Keras使用モデル：Sequential\n",
    "・畳み込み入力層：3×3サイズの32個の特徴マップ、ランプ関数\n",
    "・畳み込み入力層：3×3サイズの32個の特徴マップ、ランプ関数\n",
    "・マックスプーリング：2x2サイズ\n",
    "・ドロップアウト：25％\n",
    "\n",
    "・畳み込み入力層：3×3サイズの64個の特徴マップ、ランプ関数\n",
    "・畳み込み入力層：3×3サイズの64個の特徴マップ、ランプ関数\n",
    "・マックスプーリング：2x2サイズ\n",
    "・ドロップアウト：25％\n",
    "\n",
    "・多次元配列を1次元に変換(Flatten)\n",
    "・全結合層(Dense)：出力数512個、ランプ関数\n",
    "・ドロップアウト：50％\n",
    "・全結合層(Dense):出力数2個(前述の今回クラス分けする数)\n",
    "・ソフトマックス関数(クラス分けの確率を表す)\n",
    "\n",
    "・損失関数：交差エントロピー\n",
    "・最適化アルゴリズム：Adam、学習率：0.001\n",
    "　最適化法の種類については以下参照\n",
    "　https://qiita.com/ZoneTsuyoshi/items/8ef6fa1e154d176e25b8\n",
    "・評価関数：accuracy(精度)\n",
    "\n",
    "<データ拡大(DataAugmentation)>\n",
    "今回設置した画像水増し方法は以下の通りです。\n",
    "・rotation_range：画像をランダムに回転\n",
    "・width_shift_range：ランダムに画像を水平方向にシフト\n",
    "・height_shift_range：ランダムに画像を垂直方向にシフト\n",
    "・shear_range:画像のアスペクト比を変更\n",
    "・zoom_range：画像を拡大\n",
    "・horizontal_flip：画像を水平方向に反転\n",
    "・vertical_flip：画像を垂直方向に反転\n",
    "            \n",
    "</pre>"
   ]
  },
  {
   "cell_type": "code",
   "execution_count": 140,
   "metadata": {
    "slideshow": {
     "slide_type": "-"
    }
   },
   "outputs": [],
   "source": [
    "def train_core(num_classes, batch_size,\n",
    "               epochs, data_aug,\n",
    "               verbose, lr_num):\n",
    "    # <レイヤーの設計>\n",
    "    model = Sequential() # Kerasのモデル指定\n",
    "    model.add(Conv2D(32, (3, 3), padding='same', input_shape=X_train.shape[1:]))\n",
    "    model.add(Activation('relu'))\n",
    "    model.add(Conv2D(32, (3, 3)))\n",
    "    model.add(Activation('relu'))\n",
    "    model.add(MaxPooling2D(pool_size=(2, 2)))\n",
    "    model.add(Dropout(0.25))\n",
    "\n",
    "    model.add(Conv2D(64, (3, 3), padding='same'))\n",
    "    model.add(Activation('relu'))\n",
    "    model.add(Conv2D(64, (3, 3)))\n",
    "    model.add(Activation('relu'))\n",
    "    model.add(MaxPooling2D(pool_size=(2, 2)))\n",
    "    model.add(Dropout(0.25))\n",
    "\n",
    "    model.add(Flatten())\n",
    "    model.add(Dense(512))\n",
    "    model.add(Activation('relu'))\n",
    "    model.add(Dropout(0.5))\n",
    "    model.add(Dense(num_classes))\n",
    "    model.add(Activation('softmax'))\n",
    "\n",
    "    # モデルのサマリーを表示\n",
    "    # print(model.summary())\n",
    "    \n",
    "    # モデルのコンパイル\n",
    "    model.compile(\n",
    "    loss='categorical_crossentropy', # 損失関数の設定\n",
    "    optimizer=Adam(lr=lr_num), # 最適化法の指定\n",
    "    metrics=['accuracy'])\n",
    "\n",
    "    # データ拡大(DataAugmentaion)\n",
    "    if not data_aug:\n",
    "        train_result = model.fit(X_train, Y_train, \n",
    "                                 batch_size=batch_size,\n",
    "                                 epochs=epochs,\n",
    "                                 verbose=verbose,\n",
    "                                 validation_data=(X_test, Y_test),\n",
    "                                 shuffle=True)\n",
    "    # DataAugmentationを使用する場合\n",
    "    else:\n",
    "        datagen = ImageDataGenerator(\n",
    "            rotation_range=0,\n",
    "            width_shift_range=0,\n",
    "            height_shift_range=0,\n",
    "            shear_range=0,\n",
    "            zoom_range=0,\n",
    "            horizontal_flip=True,\n",
    "            vertical_flip=False,)\n",
    "        datagen.fit(X_train)\n",
    "        train_result = model.fit_generator(datagen.flow(X_train, Y_train, batch_size=batch_size),\n",
    "                                       epochs=epochs,\n",
    "                                       verbose=verbose,\n",
    "                                       validation_data=(X_test, Y_test),\n",
    "                                       workers=4)\n",
    "    \n",
    "    # 以下学習結果出力\n",
    "    score = model.evaluate(X_test, Y_test, verbose=0)\n",
    "    Y_pred = model.predict(X_test, verbose=0)\n",
    "    f1score = f1_score(np.argmax(Y_test, 1), np.argmax(Y_pred, 1), average='micro')\n",
    "    \n",
    "    # 学習進捗表示用\n",
    "    train_result.history.keys()\n",
    "    plt.figure(facecolor='white', edgecolor=\"coral\")\n",
    "    plt.plot(range(1, epochs+1), train_result.history['acc'], label=\"training\")\n",
    "    plt.plot(range(1, epochs+1), train_result.history['val_acc'], label=\"validation\")\n",
    "    plt.title('Accuracy')\n",
    "    plt.xlabel('Epochs')\n",
    "    plt.ylabel('Accuracy')\n",
    "    plt.legend(loc='lower right')\n",
    "    plt.show()\n",
    "    \n",
    "    train_result.history.keys()\n",
    "    plt.figure(facecolor='white', edgecolor=\"coral\")\n",
    "    plt.plot(range(1, epochs+1), train_result.history['loss'], label=\"training\")\n",
    "    plt.plot(range(1, epochs+1), train_result.history['val_loss'], label=\"validation\")\n",
    "    plt.title('Loss')\n",
    "    plt.xlabel('Epochs')\n",
    "    plt.ylabel('Accuracy')\n",
    "    plt.legend(loc='upper right')\n",
    "    plt.show()\n",
    "    \n",
    "    # 学習結果表示用\n",
    "    print(classification_report(np.argmax(Y_test, 1), np.argmax(Y_pred, 1)))\n",
    "    print(confusion_matrix(np.argmax(Y_test, 1), np.argmax(Y_pred,1)))\n",
    "    # 学習結果の戻り値(出力は)TestLoss値と、TestAccuracy, F1score\n",
    "    return[score[0], score[1], f1score]"
   ]
  },
  {
   "cell_type": "markdown",
   "metadata": {
    "slideshow": {
     "slide_type": "slide"
    }
   },
   "source": [
    "<div style=\"text-align: left;\">\n",
    "<font size=\"4\">5.学習実行</font>\n",
    "</div>\n",
    "<pre>\n",
    "4.で作った学習モデルに、各種パラメータを設定し学習を実行する。\n",
    "また、学習パラメータとして\n",
    "バッチサイズ、エポック数、学習係数、データ水増し(DataAugmentaion)実行の有/無を指定可能\n",
    "学習進捗を表示できるverboseを指定可能(0:表示なし、1:表示あり)\n",
    "※エポック、バッチサイズを複数個指定する場合はリストで表記して下さい。\n",
    "　例：エポックを10,100,1000の3通り実行したい場合は\n",
    " 　　 epochs = [10, 100, 1000]"
   ]
  },
  {
   "cell_type": "code",
   "execution_count": 141,
   "metadata": {
    "slideshow": {
     "slide_type": "-"
    }
   },
   "outputs": [
    {
     "name": "stdout",
     "output_type": "stream",
     "text": [
      "学習中\n"
     ]
    },
    {
     "data": {
      "image/png": "[encoded data removed]",
      "text/plain": [
       "<Figure size 432x288 with 1 Axes>"
      ]
     },
     "metadata": {},
     "output_type": "display_data"
    },
    {
     "data": {
      "image/png": "[encoded data removed]",
      "text/plain": [
       "<Figure size 432x288 with 1 Axes>"
      ]
     },
     "metadata": {},
     "output_type": "display_data"
    },
    {
     "name": "stdout",
     "output_type": "stream",
     "text": [
      "              precision    recall  f1-score   support\n",
      "\n",
      "           0       1.00      0.86      0.92      4910\n",
      "           1       0.00      0.00      0.00         0\n",
      "\n",
      "   micro avg       0.86      0.86      0.86      4910\n",
      "   macro avg       0.50      0.43      0.46      4910\n",
      "weighted avg       1.00      0.86      0.92      4910\n",
      "\n",
      "[[4200  710]\n",
      " [   0    0]]\n"
     ]
    },
    {
     "data": {
      "text/html": [
       "<div>\n",
       "<style scoped>\n",
       "    .dataframe tbody tr th:only-of-type {\n",
       "        vertical-align: middle;\n",
       "    }\n",
       "\n",
       "    .dataframe tbody tr th {\n",
       "        vertical-align: top;\n",
       "    }\n",
       "\n",
       "    .dataframe thead th {\n",
       "        text-align: right;\n",
       "    }\n",
       "</style>\n",
       "<table border=\"1\" class=\"dataframe\">\n",
       "  <thead>\n",
       "    <tr style=\"text-align: right;\">\n",
       "      <th></th>\n",
       "      <th>処理時間</th>\n",
       "      <th>TestLoss</th>\n",
       "      <th>TestAccuracy</th>\n",
       "      <th>F1スコア(micro)</th>\n",
       "      <th>エポック数</th>\n",
       "      <th>バッチサイズ</th>\n",
       "      <th>クラス数</th>\n",
       "      <th>学習枚数</th>\n",
       "      <th>評価枚数</th>\n",
       "      <th>データ拡大</th>\n",
       "    </tr>\n",
       "  </thead>\n",
       "  <tbody>\n",
       "    <tr>\n",
       "      <th>0</th>\n",
       "      <td>147.4014</td>\n",
       "      <td>0.4485</td>\n",
       "      <td>0.8554</td>\n",
       "      <td>0.8554</td>\n",
       "      <td>500</td>\n",
       "      <td>10000</td>\n",
       "      <td>2</td>\n",
       "      <td>180</td>\n",
       "      <td>1</td>\n",
       "      <td>True</td>\n",
       "    </tr>\n",
       "  </tbody>\n",
       "</table>\n",
       "</div>"
      ],
      "text/plain": [
       "       処理時間  TestLoss  TestAccuracy  F1スコア(micro)  エポック数  バッチサイズ  クラス数  学習枚数  \\\n",
       "0  147.4014    0.4485        0.8554        0.8554    500   10000     2   180   \n",
       "\n",
       "   評価枚数  データ拡大  \n",
       "0     1   True  "
      ]
     },
     "metadata": {},
     "output_type": "display_data"
    },
    {
     "name": "stdout",
     "output_type": "stream",
     "text": [
      "1ループ終了\n",
      "全データ表示\n"
     ]
    },
    {
     "data": {
      "text/html": [
       "<div>\n",
       "<style scoped>\n",
       "    .dataframe tbody tr th:only-of-type {\n",
       "        vertical-align: middle;\n",
       "    }\n",
       "\n",
       "    .dataframe tbody tr th {\n",
       "        vertical-align: top;\n",
       "    }\n",
       "\n",
       "    .dataframe thead th {\n",
       "        text-align: right;\n",
       "    }\n",
       "</style>\n",
       "<table border=\"1\" class=\"dataframe\">\n",
       "  <thead>\n",
       "    <tr style=\"text-align: right;\">\n",
       "      <th></th>\n",
       "      <th>処理時間</th>\n",
       "      <th>TestLoss</th>\n",
       "      <th>TestAccuracy</th>\n",
       "      <th>F1スコア(micro)</th>\n",
       "      <th>エポック数</th>\n",
       "      <th>バッチサイズ</th>\n",
       "      <th>クラス数</th>\n",
       "      <th>学習枚数</th>\n",
       "      <th>評価枚数</th>\n",
       "      <th>データ拡大</th>\n",
       "    </tr>\n",
       "  </thead>\n",
       "  <tbody>\n",
       "    <tr>\n",
       "      <th>0</th>\n",
       "      <td>147.4014</td>\n",
       "      <td>0.4485</td>\n",
       "      <td>0.8554</td>\n",
       "      <td>0.8554</td>\n",
       "      <td>500</td>\n",
       "      <td>10000</td>\n",
       "      <td>2</td>\n",
       "      <td>180</td>\n",
       "      <td>1</td>\n",
       "      <td>True</td>\n",
       "    </tr>\n",
       "  </tbody>\n",
       "</table>\n",
       "</div>"
      ],
      "text/plain": [
       "       処理時間  TestLoss  TestAccuracy  F1スコア(micro) エポック数 バッチサイズ クラス数 学習枚数 評価枚数  \\\n",
       "0  147.4014    0.4485        0.8554        0.8554   500  10000    2  180    1   \n",
       "\n",
       "  データ拡大  \n",
       "0  True  "
      ]
     },
     "metadata": {},
     "output_type": "display_data"
    },
    {
     "name": "stdout",
     "output_type": "stream",
     "text": [
      "終了しました\n"
     ]
    }
   ],
   "source": [
    "# 学習実行用、バッチサイズ、エポックパラメータを複数回処理できるようにしてあります。\n",
    "def train_process(num_classes, batch_size, epochs, data_aug, verbose, result_df, lr_num):\n",
    "    for i in range(len(batch_size)):\n",
    "        batch_size_num = batch_size[i]\n",
    "        for i in range(len(epochs)):\n",
    "            epochs_num = epochs[i]\n",
    "            Test_score_avg = []\n",
    "            Test_accu_avg = []\n",
    "            Test_f1_avg = []\n",
    "            Process_time = []\n",
    "            for i in range(train_num):\n",
    "                if train_num > 1:\n",
    "                    print(train_num, '回繰り返し学習実行後、平均値を算出します')\n",
    "                print('学習中')\n",
    "                start = time.time()\n",
    "                result = train_core(num_classes, batch_size_num,\n",
    "                                    epochs_num, data_aug, verbose,\n",
    "                                    lr_num)\n",
    "                Test_score_avg.append(result[0])\n",
    "                Test_accu_avg.append(result[1])\n",
    "                Test_f1_avg.append(result[2])\n",
    "                elapsed_time = time.time() - start\n",
    "                \n",
    "            Process_time.append(elapsed_time)\n",
    "            Process_time = round(sum(Process_time)/len(Process_time),4)\n",
    "            Test_score_avg = round(sum(Test_score_avg)/len(Test_score_avg),4)\n",
    "            Test_accu_avg = round(sum(Test_accu_avg)/len(Test_accu_avg),4)\n",
    "            Test_f1_avg = round(sum(Test_f1_avg)/len(Test_f1_avg),4)\n",
    "            show_index = train_disc(Process_time, Test_score_avg, Test_accu_avg, Test_f1_avg, \n",
    "                                        epochs_num, batch_size_num, num_classes, \n",
    "                                        train_pics, test_pics, data_aug, result_df)  \n",
    "            temp_df = pd.DataFrame(show_index, columns=column)\n",
    "            display(temp_df)\n",
    "            result_df = result_df.append(show_index[0], ignore_index=True)\n",
    "            print('1ループ終了')\n",
    "\n",
    "    print('全データ表示')\n",
    "    display(result_df)\n",
    "\n",
    "#グラフデータ作成用\n",
    "#  結果リストデータセット\n",
    "def train_disc(elapsed_time, result_s, result_a, result_f,\n",
    "               epochs, batch_size, num_classes,\n",
    "               train_pics, test_pics, data_aug, result_df):\n",
    "    data = [elapsed_time, result_s, result_a, result_f,\n",
    "            epochs, batch_size, num_classes, \n",
    "            train_pics, test_pics, data_aug]\n",
    "    new_data = pd.Series(data, index=result_df.columns)\n",
    "    return[new_data]\n",
    "column = ['処理時間', 'TestLoss', 'TestAccuracy', 'F1スコア(micro)',\n",
    "          'エポック数', 'バッチサイズ', 'クラス数',\n",
    "          '学習枚数', '評価枚数', 'データ拡大']\n",
    "result_df = pd.DataFrame( columns=column)    \n",
    "\n",
    "# 学習パラメータ\n",
    "num_classes=len(class_folder) # 分類項目数\n",
    "train_num = 1 # 学習繰り返し数(平均スコア算出の為)\n",
    "verbose = 0\n",
    "epochs = [500]\n",
    "batch_size = [10000]\n",
    "data_aug = True\n",
    "lr_num = 0.0001\n",
    "\n",
    "params = [num_classes, batch_size,\n",
    "          epochs, data_aug,\n",
    "          verbose, result_df, lr_num]\n",
    "# 学習実行\n",
    "train_process(*params)\n",
    "\n",
    "print('終了しました')"
   ]
  }
 ],
 "metadata": {
  "celltoolbar": "Slideshow",
  "kernelspec": {
   "display_name": "Python 3",
   "language": "python",
   "name": "python3"
  },
  "language_info": {
   "codemirror_mode": {
    "name": "ipython",
    "version": 3
   },
   "file_extension": ".py",
   "mimetype": "text/x-python",
   "name": "python",
   "nbconvert_exporter": "python",
   "pygments_lexer": "ipython3",
   "version": "3.6.6"
  }
 },
 "nbformat": 4,
 "nbformat_minor": 2
}
