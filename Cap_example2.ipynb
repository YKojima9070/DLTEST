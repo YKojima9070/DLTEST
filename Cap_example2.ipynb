{
 "cells": [
  {
   "cell_type": "code",
   "execution_count": 17,
   "metadata": {},
   "outputs": [
    {
     "name": "stderr",
     "output_type": "stream",
     "text": [
      "Exception in Tkinter callback\n",
      "Traceback (most recent call last):\n",
      "  File \"C:\\ProgramData\\Anaconda3\\lib\\tkinter\\__init__.py\", line 1702, in __call__\n",
      "    return self.func(*args)\n",
      "  File \"C:\\ProgramData\\Anaconda3\\lib\\tkinter\\__init__.py\", line 746, in callit\n",
      "    func(*args)\n",
      "  File \"<ipython-input-17-e413dcadb4fb>\", line 39, in <lambda>\n",
      "    root.after(20, func=lambda: update_all(root, image_label, cam, fps_label))\n",
      "  File \"<ipython-input-17-e413dcadb4fb>\", line 37, in update_all\n",
      "    update_fps(fps_label)\n",
      "  File \"<ipython-input-17-e413dcadb4fb>\", line 32, in update_fps\n",
      "    fps_label.configure(text='FPS: {}'.format(fps))\n",
      "  File \"C:\\ProgramData\\Anaconda3\\lib\\tkinter\\__init__.py\", line 1482, in configure\n",
      "    return self._configure('configure', cnf, kw)\n",
      "  File \"C:\\ProgramData\\Anaconda3\\lib\\tkinter\\__init__.py\", line 1473, in _configure\n",
      "    self.tk.call(_flatten((self._w, cmd)) + self._options(cnf))\n",
      "_tkinter.TclError: invalid command name \".!label2\"\n"
     ]
    }
   ],
   "source": [
    "from collections import deque\n",
    "import cv2\n",
    "from PIL import Image, ImageTk\n",
    "import time\n",
    "import tkinter as tk\n",
    "\n",
    "def quit_(root):\n",
    "    root.destroy()\n",
    "\n",
    "def update_image(image_label, cam):\n",
    "    ref, f = cam.read()\n",
    "    # Grayスケール変換\n",
    "    # gray_im = cv2.cvtColor(f, cv2.COLOR_BGR2GRAY)\n",
    "    # デフォルトのBGRをRGBに変換\n",
    "    Color_im = f[:,:,::-1]\n",
    "    a = Image.fromarray(Color_im)\n",
    "    b = ImageTk.PhotoImage(image=a)\n",
    "    image_label.configure(image=b)\n",
    "    image_label._image_cache = b  # avoid garbage collection\n",
    "    root.update()\n",
    "\n",
    "def update_fps(fps_label):\n",
    "    frame_times = fps_label._frame_times\n",
    "    frame_times.rotate()\n",
    "    frame_times[0] = time.time()\n",
    "    sum_of_deltas = frame_times[0] - frame_times[-1]\n",
    "    count_of_deltas = len(frame_times) - 1\n",
    "    try:\n",
    "        fps = int(float(count_of_deltas) / sum_of_deltas)\n",
    "    except ZeroDivisionError:\n",
    "        fps = 0\n",
    "    fps_label.configure(text='FPS: {}'.format(fps))\n",
    "\n",
    "\n",
    "def update_all(root, image_label, cam, fps_label):\n",
    "    update_image(image_label, cam)\n",
    "    update_fps(fps_label)\n",
    "    # 実際のフレームレートが頭の20(msec)を指す\n",
    "    root.after(20, func=lambda: update_all(root, image_label, cam, fps_label))\n",
    "\n",
    "\n",
    "if __name__ == '__main__':\n",
    "    root = tk.Tk() \n",
    "    image_label = tk.Label(master=root)# label for the video frame\n",
    "    image_label.pack()\n",
    "    cam = cv2.VideoCapture(0) # キャプチャするカメラのデバイス番号を入力\n",
    "    fps_label = tk.Label(master=root) # label for fps\n",
    "    fps_label._frame_times = deque([0]*5)  # arbitrary 5 frame average FPS\n",
    "    fps_label.pack(side='left')\n",
    "    # quit button\n",
    "    quit_button = tk.Button(master=root, text='Quit',command=lambda: quit_(root))\n",
    "    quit_button.pack(side='right')\n",
    "    # setup the update callback\n",
    "    root.after(0, func=lambda: update_all(root, image_label, cam, fps_label))\n",
    "    root.mainloop()"
   ]
  },
  {
   "cell_type": "code",
   "execution_count": null,
   "metadata": {},
   "outputs": [],
   "source": []
  }
 ],
 "metadata": {
  "kernelspec": {
   "display_name": "Python 3",
   "language": "python",
   "name": "python3"
  },
  "language_info": {
   "codemirror_mode": {
    "name": "ipython",
    "version": 3
   },
   "file_extension": ".py",
   "mimetype": "text/x-python",
   "name": "python",
   "nbconvert_exporter": "python",
   "pygments_lexer": "ipython3",
   "version": "3.6.5"
  }
 },
 "nbformat": 4,
 "nbformat_minor": 2
}
